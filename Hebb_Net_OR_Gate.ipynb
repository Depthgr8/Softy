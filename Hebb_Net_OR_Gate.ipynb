{
  "nbformat": 4,
  "nbformat_minor": 0,
  "metadata": {
    "colab": {
      "provenance": []
    },
    "kernelspec": {
      "name": "python3",
      "display_name": "Python 3"
    },
    "language_info": {
      "name": "python"
    }
  },
  "cells": [
    {
      "cell_type": "code",
      "execution_count": 6,
      "metadata": {
        "colab": {
          "base_uri": "https://localhost:8080/"
        },
        "id": "Z8kfXCdb9Skz",
        "outputId": "93eeaccc-3368-473c-9d3f-b4da6ebebe4a"
      },
      "outputs": [
        {
          "output_type": "stream",
          "name": "stdout",
          "text": [
            "Input vector patterns =  4 & Input neurons =  3\n",
            "Initial weights for synapses = [0 0 0]\n",
            "\n",
            "For input vector pattern no. 1 [1 1 1]\n",
            "Activation :  0\n",
            "New weights : [1 1 1] = Current weights : [0 0 0] + Weight change: [1 1 1]\n",
            "\n",
            "For input vector pattern no. 2 [ 1 -1  1]\n",
            "Activation :  1\n",
            "New weights : [2 0 2] = Current weights : [1 1 1] + Weight change: [ 1 -1  1]\n",
            "\n",
            "For input vector pattern no. 3 [-1  1  1]\n",
            "Activation :  0\n",
            "New weights : [1 1 3] = Current weights : [2 0 2] + Weight change: [-1  1  1]\n",
            "\n",
            "For input vector pattern no. 4 [-1 -1  1]\n",
            "Activation :  1\n",
            "New weights : [2 2 2] = Current weights : [1 1 3] + Weight change: [ 1  1 -1]\n",
            "\n",
            "Weights after Hebbian learning = [2 2 2]\n",
            "\n",
            "Testing neural network learning\n",
            "Test case is [-1, -1, 1] and predicted output is -1\n"
          ]
        }
      ],
      "source": [
        "import numpy as np # Imports numpy library to generate/represent arrays and matrices\n",
        "def hebb_net(X, Y): # Takes possible input neuron ON/OFF patterns\n",
        "  num_samples, num_features = X.shape # Figures out number of data points (patterns) and features (neurons+bias)\n",
        "  print(\"Input vector patterns = \",num_samples,\"& Input neurons = \",num_features) # Prints shape of Neural network\n",
        "  weights = np.zeros(num_features, dtype=int)  # Assign initial weights to be zero\n",
        "  print(\"Initial weights for synapses =\", weights)\n",
        "  for i in range(num_samples):\n",
        "    print(\"\\nFor input vector pattern no.\",i+1, X[i])\n",
        "    y_pred = np.dot(X[i], weights) # Activation\n",
        "    print(\"Activation : \",y_pred)\n",
        "    delta_w = X[i] * Y[i]  # Supervised learning using Hebbian rule using target Y - The rule calculates required weight change\n",
        "    print(\"New weights :\", weights + delta_w, \"= Current weights :\", weights, \"+ Weight change:\", delta_w)\n",
        "    weights += delta_w\n",
        "  return weights\n",
        "\n",
        "X = np.array([ # Bipolar input vector patterns\n",
        "  [1,   1, 1],\n",
        "  [1,  -1, 1],\n",
        "  [-1,  1, 1],\n",
        "  [-1, -1, 1]])\n",
        "\n",
        "# Target output (Actual output) for OR gate\n",
        "Y = np.array([1, 1, 1, -1]) # Bipolar output\n",
        "\n",
        "learned_weights = hebb_net(X, Y) # Train the Hebb Net\n",
        "print(\"\\nWeights after Hebbian learning =\", learned_weights) # Print weights vector\n",
        "\n",
        "def predict(x, weights): # Predict target for given input pattern\n",
        "  if np.dot(x, weights) > 0:\n",
        "    return 1\n",
        "  else:\n",
        "    return -1 # Keep -1 for Bipolar output neuron and 0 for Binary neuron\n",
        "\n",
        "print(\"\\nTesting neural network learning\")\n",
        "\n",
        "test_case = [1,  1, 1]\n",
        "test_case = [1,  -1, 1]\n",
        "test_case = [-1,  1, 1]\n",
        "test_case = [-1,  -1, 1]\n",
        "\n",
        "prediction = predict(test_case, learned_weights)\n",
        "print(\"Test case is\",test_case, \"and predicted output is\",prediction)"
      ]
    }
  ]
}