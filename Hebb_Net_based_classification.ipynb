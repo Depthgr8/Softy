{
  "nbformat": 4,
  "nbformat_minor": 0,
  "metadata": {
    "colab": {
      "provenance": []
    },
    "kernelspec": {
      "name": "python3",
      "display_name": "Python 3"
    },
    "language_info": {
      "name": "python"
    }
  },
  "cells": [
    {
      "cell_type": "markdown",
      "source": [
        "## Binary classification using Hebb Net.\n",
        "Tasks:\n",
        "- For the given two input image patterns, perform binary classification using a single layer Hebb net (architecture + algorithm).\n",
        "- Graphically illustrate Hebbian learning for the given problem.\n",
        "- Write down the equations satisfying linear separation and final weight matrix after training of the network is complete.\n",
        "\n",
        "##### Hint: Represent network as bipolar neuronal model (Both Input and output neurons)\n",
        "##### Assumption: Dark pixels depict positive signal, white pixels represent lack of signal.\n",
        "\n",
        "\n",
        "\n",
        "![image.png](data:image/png;base64,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)"
      ],
      "metadata": {
        "id": "eJTlfsej8L1k"
      }
    },
    {
      "cell_type": "code",
      "execution_count": null,
      "metadata": {
        "id": "8_t9bS_D7hWC"
      },
      "outputs": [],
      "source": [
        "import numpy as np # Imports numpy library to generate/represent arrays and matrices\n",
        "def hebb_net(X, Y): # Takes possible input neuron ON/OFF patterns\n",
        "  num_samples, num_features = X.shape # Figures out number of data points (patterns) and features (neurons+bias)\n",
        "  print(\"Input vector patterns = \",num_samples,\"& Input neurons = \",num_features) # Prints shape of Neural network\n",
        "  weights = np.zeros(num_features, dtype=int)  # Assign initial weights to be zero\n",
        "  print(\"Initial weights for synapses =\", weights)\n",
        "  for i in range(num_samples):\n",
        "    print(\"\\nFor input vector pattern no.\",i+1, X[i])\n",
        "    y_pred = np.dot(X[i], weights) # Activation\n",
        "    print(\"Activation : \",y_pred)\n",
        "    delta_w = X[i] * Y[i]  # Supervised learning using Hebbian rule using target Y - The rule calculates required weight change\n",
        "    print(\"New weights :\", weights + delta_w, \"= Current weights :\", weights, \"+ Weight change:\", delta_w)\n",
        "    weights += delta_w\n",
        "  return weights\n",
        "\n",
        "# Data (Input/Output representation in Bipolar neuron format)\n",
        "X = np.array([[-1,\t1,\t1,\t1,\t-1, 1,\t-1,\t-1,\t-1,\t1, 1,\t-1,\t-1,\t-1,\t1, 1,\t-1,\t-1,\t-1,\t1, -1,\t1,\t1,\t1,\t-1], # Represents 'O' or -1\n",
        "             [1,\t-1,\t-1,\t-1,\t1, -1,\t1,\t-1,\t1,\t-1, -1,\t-1,\t1,\t-1,\t-1, -1,\t1,\t-1,\t1,\t-1, 1,\t-1,\t-1,\t-1,\t1]]) # Represents 'X' or 1\n",
        "Y = np.array([-1, 1]) # Bipolar output\n",
        "\n",
        "learned_weights = hebb_net(X, Y) # Train the Hebb Net\n",
        "print(\"\\nWeights after Hebbian learning =\", learned_weights) # Print weights vector\n",
        "\n",
        "def predict(x, weights): # Predict target for given input pattern\n",
        "  if np.dot(x, weights) > 0:\n",
        "    return 1\n",
        "  else:\n",
        "    return -1 # Keep -1 for Bipolar output neuron and 0 for Binary neuron\n",
        "\n",
        "print(\"\\nTesting neural network learning\")\n",
        "\n",
        "# O or Negative cases\n",
        "test_case = [-1,\t1,\t1,\t1,\t-1, 1,\t-1,\t-1,\t-1,\t1, 1,\t-1,\t-1,\t-1,\t1, 1,\t-1,\t-1,\t-1,\t1, -1,\t1,\t1,\t1,\t-1 ]\n",
        "test_case = [-1,\t1,\t1,\t1,\t-1, 1,\t-1,\t-1,\t-1,\t1, 1,\t-1,\t-1,\t-1,\t1, 1,\t-1,\t-1,\t-1,\t1, -1,\t1,\t1,\t1,\t-1 ]\n",
        "test_case = [-1,\t1,\t1,\t1,\t-1, 1,\t-1,\t-1,\t-1,\t1, 1,\t-1,\t-1,\t-1,\t1, 1,\t-1,\t-1,\t-1,\t1, -1,\t1,\t1,\t1,\t-1 ]\n",
        "test_case = [-1,\t1,\t1,\t1,\t-1, 1,\t-1,\t-1,\t-1,\t1, 1,\t-1,\t-1,\t-1,\t1, 1,\t-1,\t-1,\t-1,\t1, -1,\t1,\t1,\t1,\t-1 ]\n",
        "\n",
        "# X or Positive cases\n",
        "test_case = [1,\t-1,\t-1,\t-1,\t1, -1,\t1,\t-1,\t1,\t-1, -1,\t-1,\t1,\t-1,\t-1, -1,\t1,\t-1,\t1,\t-1, 1,\t-1,\t-1,\t-1,\t1]\n",
        "test_case = [1,\t-1,\t-1,\t-1,\t1, -1,\t1,\t-1,\t1,\t-1, -1,\t-1,\t1,\t-1,\t-1, -1,\t1,\t-1,\t1,\t-1, 1,\t-1,\t-1,\t-1,\t1]\n",
        "test_case = [1,\t-1,\t-1,\t-1,\t1, -1,\t1,\t-1,\t1,\t-1, -1,\t-1,\t1,\t-1,\t-1, -1,\t1,\t-1,\t1,\t-1, 1,\t-1,\t-1,\t-1,\t1]\n",
        "test_case = [1,\t-1,\t-1,\t-1,\t1, -1,\t1,\t-1,\t1,\t-1, -1,\t-1,\t1,\t-1,\t-1, -1,\t1,\t-1,\t1,\t-1, 1,\t-1,\t-1,\t-1,\t1]\n",
        "\n",
        "prediction = predict(test_case, learned_weights)\n",
        "print(\"Test case is\",test_case, \"\\nPredicted output is\",prediction)"
      ]
    }
  ]
}